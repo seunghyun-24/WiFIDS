{
 "cells": [
  {
   "cell_type": "code",
   "execution_count": 1,
   "metadata": {},
   "outputs": [],
   "source": [
    "import os\n",
    "import random\n",
    "import warnings\n",
    "from typing import Union, List\n",
    "\n",
    "import numpy as np\n",
    "import pandas as pd\n",
    "\n",
    "from sklearn.preprocessing import StandardScaler, LabelEncoder\n",
    "from sklearn.model_selection import train_test_split, StratifiedKFold\n",
    "from sklearn.tree import DecisionTreeClassifier\n",
    "from sklearn.linear_model import LogisticRegression\n",
    "from sklearn.ensemble import RandomForestClassifier\n",
    "from sklearn.metrics import accuracy_score, precision_score, recall_score, roc_auc_score, f1_score, confusion_matrix\n",
    "\n",
    "from xgboost import XGBClassifier\n",
    "from lightgbm import LGBMClassifier\n",
    "from catboost import CatBoostClassifier\n",
    "\n",
    "import torch\n",
    "import torch.nn as nn\n",
    "import torch.optim as optim\n",
    "from torch.utils.data import DataLoader, TensorDataset\n",
    "\n",
    "import matplotlib.pyplot as plt\n",
    "\n",
    "import torch"
   ]
  },
  {
   "cell_type": "code",
   "execution_count": 2,
   "metadata": {},
   "outputs": [],
   "source": [
    "folder: str = \"/data/experience/CSV\"\n",
    "\n",
    "sub_folders: list = [\n",
    "    '/1.Deauth',\n",
    "    '/2.Disas',\n",
    "    '/3.(Re)Assoc',\n",
    "    '/4.Rogue_AP',\n",
    "    '/5.Krack',\n",
    "    '/6.Kr00k',\n",
    "    '/7.SSH',\n",
    "    '/8.Botnet',\n",
    "    '/9.Malware',\n",
    "    '/10.SQL_Injection',\n",
    "    '/11.SSDP',\n",
    "    '/12.Evil_Twin',\n",
    "    '/13.Website_spoofing'\n",
    "]"
   ]
  },
  {
   "cell_type": "code",
   "execution_count": 3,
   "metadata": {},
   "outputs": [],
   "source": [
    "def load_dataset(num: int = 1, all: bool = False) -> pd.DataFrame:\n",
    "    if num < 1 or num > 13: return None\n",
    "    \n",
    "    path: str = folder + sub_folders[num-1]\n",
    "    files: list = os.listdir(path)\n",
    "\n",
    "    with warnings.catch_warnings():\n",
    "        warnings.simplefilter(\"ignore\", category=pd.errors.DtypeWarning)\n",
    "        df = pd.concat([pd.read_csv(path + '/' + file) for file in files], ignore_index=True) if all else pd.read_csv(path + '/' + files[0])\n",
    "    \n",
    "    return df"
   ]
  },
  {
   "cell_type": "code",
   "execution_count": 8,
   "metadata": {},
   "outputs": [],
   "source": [
    "for idx in [1, 2, 3, 4, 5, 6, 12]:\n",
    "    df = load_dataset(idx, True)\n",
    "    df = df.dropna(subset=['Label'])\n",
    "    \n",
    "    normal_packets = df[df['Label'] == 'Normal']\n",
    "    attack_packets = df[df['Label'] != 'Normal']\n",
    "    \n",
    "    for num in [3, 5, 10, 20, 50, 100, 150, 200, 300, 500, 800, 1000]:\n",
    "        num_attacked = max(1, int(num // 33))\n",
    "        \n",
    "        normal_sample = normal_packets.sample(num - num_attacked, random_state=42)\n",
    "        attack_sample = attack_packets.sample(num_attacked, random_state=42)\n",
    "\n",
    "        df_splitted = pd.concat([normal_sample, attack_sample], ignore_index=True)\n",
    "\n",
    "        df_splitted.to_csv('/data/experience/wireless/CSV/train/' + sub_folders[idx-1].split('.')[1] + '_' + str(num) + '_train.csv', index=False)"
   ]
  },
  {
   "cell_type": "code",
   "execution_count": null,
   "metadata": {},
   "outputs": [],
   "source": [
    "for idx in [1, 2, 3, 4, 5, 6, 12]:\n",
    "    df = load_dataset(idx, True)\n",
    "    df = df.dropna(subset=['Label'])\n",
    "    \n",
    "    normal_packets = df[df['Label'] == 'Normal']\n",
    "    attack_packets = df[df['Label'] != 'Normal']\n",
    "    \n",
    "    num = 50000\n",
    "    num_attacked = max(1, int(num // 10))\n",
    "    \n",
    "    normal_sample = normal_packets.sample(num-num_attacked, random_state=42)\n",
    "    attack_sample = attack_packets.sample(num_attacked, random_state=42)\n",
    "\n",
    "    df_splitted = pd.concat([normal_sample, attack_sample], ignore_index=True)\n",
    "\n",
    "    df_splitted.to_csv('/data/experience/wireless/CSV/test/' + sub_folders[idx-1].split('.')[1] + '_' + str(num) + '_test.csv', index=False)"
   ]
  }
 ],
 "metadata": {
  "kernelspec": {
   "display_name": "mobile",
   "language": "python",
   "name": "python3"
  },
  "language_info": {
   "codemirror_mode": {
    "name": "ipython",
    "version": 3
   },
   "file_extension": ".py",
   "mimetype": "text/x-python",
   "name": "python",
   "nbconvert_exporter": "python",
   "pygments_lexer": "ipython3",
   "version": "3.10.14"
  }
 },
 "nbformat": 4,
 "nbformat_minor": 2
}
